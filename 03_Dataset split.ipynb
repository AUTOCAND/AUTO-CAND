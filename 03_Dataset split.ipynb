{
 "cells": [
  {
   "cell_type": "markdown",
   "id": "6e5e28ce",
   "metadata": {},
   "source": [
    "# <font color='Crimson'><b>LEARNING AND TEST SPLIT</b></font>"
   ]
  },
  {
   "cell_type": "code",
   "execution_count": null,
   "id": "1be38085-e3e4-4cc4-be15-449760abe7e2",
   "metadata": {},
   "outputs": [],
   "source": [
    "#Import packages:\n",
    "import pandas as pd\n",
    "from sklearn.model_selection import train_test_split\n",
    "."
   ]
  },
  {
   "cell_type": "code",
   "execution_count": null,
   "id": "6153990a",
   "metadata": {},
   "outputs": [],
   "source": [
    "#Import dataset:\n",
    "df_dataset = pd.read_csv('02_2_Dataset.csv',sep=',',index_col=0)\n",
    "df_dataset.head()"
   ]
  },
  {
   "cell_type": "code",
   "execution_count": null,
   "id": "0fb9c1d4",
   "metadata": {},
   "outputs": [],
   "source": [
    "#Features and outcome splitting:\n",
    "X = df_dataset.drop(df_dataset.columns[[6]], axis=1)\n",
    "y = df_dataset.iloc[:,6] "
   ]
  },
  {
   "cell_type": "code",
   "execution_count": null,
   "id": "79e2ed9b",
   "metadata": {},
   "outputs": [],
   "source": [
    "#Training and test splitting:\n",
    "X_training, X_test, y_training, y_test = train_test_split(X,y,train_size=0.7,test_size=0.3,\n",
    "                                                          random_state=100,shuffle=True,stratify=y)"
   ]
  },
  {
   "cell_type": "code",
   "execution_count": null,
   "id": "41c80a8c",
   "metadata": {},
   "outputs": [],
   "source": [
    "#The proportion of candidemias are mantained in the two sets?\n",
    "print('Number of candidemias in the data set:', pd.value_counts(df_dataset['CANDIDEMIA'])[1], \n",
    "      '(',round(pd.value_counts(df_dataset['CANDIDEMIA'], normalize=True)[1]*100,2),'%) of',\n",
    "      df_dataset.shape[0], 'samples')\n",
    "print('--------------------------------------------------------------')\n",
    "print('Number of candidemias in the TRAINING SET:', pd.value_counts(y_training)[1], \n",
    "      '(',round(pd.value_counts(y_training, normalize=True)[1]*100,2),'%) of',\n",
    "      y_training.shape[0], 'samples')\n",
    "print('--------------------------------------------------------------')\n",
    "print('Number of candidemias in the TEST SET:', pd.value_counts(y_test)[1], \n",
    "      '(',round(pd.value_counts(y_test, normalize=True)[1]*100,2),'%) of',\n",
    "      y_test.shape[0], 'samples')"
   ]
  },
  {
   "cell_type": "markdown",
   "id": "5081f8ec",
   "metadata": {},
   "source": [
    "#### <font color='indianred'><b>EXPORT DATA SETS</b></font>"
   ]
  },
  {
   "cell_type": "code",
   "execution_count": null,
   "id": "6e52a209",
   "metadata": {},
   "outputs": [],
   "source": [
    "#Export data sets to csv file:\n",
    "\n",
    "#Training set:\n",
    "X_training.to_csv('03_X_training.csv', sep=',')\n",
    "y_training.to_csv('03_y_training.csv', sep=',')\n",
    "\n",
    "#Test set:\n",
    "X_test.to_csv('03_X_test.csv', sep=',')\n",
    "y_test.to_csv('03_y_test.csv', sep=',')"
   ]
  }
 ],
 "metadata": {
  "kernelspec": {
   "display_name": "Python 3 (ipykernel)",
   "language": "python",
   "name": "python3"
  },
  "language_info": {
   "codemirror_mode": {
    "name": "ipython",
    "version": 3
   },
   "file_extension": ".py",
   "mimetype": "text/x-python",
   "name": "python",
   "nbconvert_exporter": "python",
   "pygments_lexer": "ipython3",
   "version": "3.9.13"
  }
 },
 "nbformat": 4,
 "nbformat_minor": 5
}
