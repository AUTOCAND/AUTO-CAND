{
 "cells": [
  {
   "cell_type": "markdown",
   "id": "e7654fd2",
   "metadata": {},
   "source": [
    "# <font color='Crimson'><b>DATA PREPARATION</b></font>"
   ]
  },
  {
   "cell_type": "code",
   "execution_count": null,
   "id": "93cfe7e0-df7b-47f9-9f46-279779e8be79",
   "metadata": {},
   "outputs": [],
   "source": [
    "#Import packages:\n",
    "import pandas as pd\n",
    "import matplotlib.pyplot as plt\n",
    "import seaborn as sns\n",
    "import numpy as np\n",
    "!"
   ]
  },
  {
   "cell_type": "code",
   "execution_count": null,
   "id": "bc5ddc49",
   "metadata": {},
   "outputs": [],
   "source": [
    "#Import data set\n",
    "df_dataset = pd.read_csv('00_Dataset.csv',sep=';')\n",
    "df_dataset.head()"
   ]
  },
  {
   "cell_type": "code",
   "execution_count": null,
   "id": "bce2d250",
   "metadata": {},
   "outputs": [],
   "source": [
    "print('Number of samples:',df_dataset.shape[0])\n",
    "print('Number of features:',df_dataset.shape[1])"
   ]
  },
  {
   "cell_type": "code",
   "execution_count": null,
   "id": "f8c46edc",
   "metadata": {},
   "outputs": [],
   "source": [
    "#Update columns format:\n",
    "df_dataset['SESSO'] = df_dataset['SESSO']-1\n",
    "df_dataset['SESSO'] = df_dataset['SESSO'].astype('category')\n",
    "\n",
    "df_dataset['Candidemia'] = df_dataset['Candidemia'].astype('uint8')\n",
    "df_dataset['Candidemia'] = df_dataset['Candidemia'].astype('category')\n",
    "\n",
    "df_dataset['Infezione Mista'] = df_dataset['Infezione Mista'].astype('uint8')\n",
    "df_dataset['Infezione Mista'] = df_dataset['Infezione Mista'].astype('category')\n",
    "\n",
    "df_dataset['Colonizzazione Candida 30 giorni precedenti']=((df_dataset['Colonizzazione Candida 30 giorni precedenti'])*1).astype('category')\n",
    "\n",
    "df_dataset['Colonizzazione Candida Multifocale']=((df_dataset['Colonizzazione Candida Multifocale'])*1).astype('category')\n",
    "\n",
    "df_dataset['Colonizzazione Candida Basse vie Respiratorie'] = df_dataset['Colonizzazione Candida Basse vie Respiratorie'].astype('category')\n",
    "\n",
    "df_dataset['Colonizzazione Candida Urinario'] = df_dataset['Colonizzazione Candida Urinario'].astype('category')\n",
    "\n",
    "df_dataset['Colonizzazione Candida Digestivo'] = df_dataset['Colonizzazione Candida Digestivo'].astype('category')\n",
    "\n",
    "df_dataset.head()"
   ]
  },
  {
   "cell_type": "markdown",
   "id": "71d3ba71",
   "metadata": {},
   "source": [
    "#### <font color='indianred'><b>EXPLORATORY DATA ANALYSIS</b></font>"
   ]
  },
  {
   "cell_type": "code",
   "execution_count": null,
   "id": "761e32b6",
   "metadata": {},
   "outputs": [],
   "source": [
    "#Gender:\n",
    "print('Number of patients:', len(set(df_dataset['ID_PAZIENTE'])))\n",
    "genere = df_dataset[['ID_PAZIENTE', 'SESSO']]\n",
    "genere_unique = genere.drop_duplicates(subset='ID_PAZIENTE')\n",
    "print('Males:',genere_unique['SESSO'].value_counts()[0],'(',round(genere_unique['SESSO'].value_counts(normalize=True)[0] * 100,1),'%)')\n",
    "print('Females:',genere_unique['SESSO'].value_counts()[1],'(',round(genere_unique['SESSO'].value_counts(normalize=True)[1] * 100,1),'%)')"
   ]
  },
  {
   "cell_type": "code",
   "execution_count": null,
   "id": "e4283450",
   "metadata": {},
   "outputs": [],
   "source": [
    "#Age at the hospitalization:\n",
    "sns.boxplot(x=df_dataset[\"ETA_EPISODIO\"])\n",
    "plt.show()\n",
    "df_dataset['ETA_EPISODIO'].describe()"
   ]
  },
  {
   "cell_type": "code",
   "execution_count": null,
   "id": "32acb81d",
   "metadata": {},
   "outputs": [],
   "source": [
    "#Hospitalization area:\n",
    "print('Number of episodes for each hospital area:\\n', df_dataset['DESCR_REPARTO'].value_counts())\n",
    "print('--------------------------------------------------------------')\n",
    "print('Number of episodes with unknown hospital area:',df_dataset['DESCR_REPARTO'].isnull().sum())"
   ]
  },
  {
   "cell_type": "code",
   "execution_count": null,
   "id": "9c15946c-a2ae-4d06-b0f2-47cf5bc5d308",
   "metadata": {},
   "outputs": [],
   "source": [
    "#Reference micro-organism:\n",
    "print('Number of distinct reference micro-organisms:', len(set(df_dataset['MICRORGANISMO_RIFERIMENTO'])))\n",
    "print('--------------------------------------------------------------')\n",
    "print('Five most frequent reference micro-organisms:\\n', df_dataset['MICRORGANISMO_RIFERIMENTO'].value_counts().head())"
   ]
  },
  {
   "cell_type": "code",
   "execution_count": null,
   "id": "f2503a3b-020e-4968-8a6e-6fe9d81059a1",
   "metadata": {},
   "outputs": [],
   "source": [
    "#Episodes of Candidemia:\n",
    "print('Candidemias:',df_dataset['Candidemia'].value_counts()[1],'(',round(df_dataset['Candidemia'].value_counts(normalize=True)[1] * 100,1),'%)')\n",
    "print('Bacteraemias:',df_dataset['Candidemia'].value_counts()[0],'(',round(df_dataset['Candidemia'].value_counts(normalize=True)[0] * 100,1),'%)')"
   ]
  },
  {
   "cell_type": "code",
   "execution_count": null,
   "id": "7d040881-2e57-496a-8c79-35d38834998a",
   "metadata": {},
   "outputs": [],
   "source": [
    "#Mixed infections:\n",
    "print('Mixed infections (classified as Candidemias):',df_dataset['Infezione Mista'].value_counts()[1])"
   ]
  },
  {
   "cell_type": "code",
   "execution_count": null,
   "id": "34969a1b-ddbc-4ce9-9e49-4181f4a71209",
   "metadata": {},
   "outputs": [],
   "source": [
    "#Colonisation by Candida during the previous 30 days:\n",
    "print('Number of episodes with a previous colonisation by Candida within 30 days:\\n', df_dataset['Colonizzazione Candida 30 giorni precedenti'].value_counts())\n",
    "print('--------------------------------------------------------------')\n",
    "print('Number of missingness:',df_dataset['Colonizzazione Candida 30 giorni precedenti'].isnull().sum())"
   ]
  },
  {
   "cell_type": "code",
   "execution_count": null,
   "id": "d968992c-5f1e-45e9-99c0-899cf4827c42",
   "metadata": {},
   "outputs": [],
   "source": [
    "#Multi-focal colonisation by Candida must be 0 if the number of explored sites are less than 2:\n",
    "df_dataset[\"Colonizzazione Candida Multifocale 2\"] = df_dataset[\"Colonizzazione Candida Multifocale\"]\n",
    "for i in range(df_dataset.shape[0]):\n",
    "    if (df_dataset['Numero Siti Esplorati'][i] == 0) or (df_dataset['Numero Siti Esplorati'][i] == 1):\n",
    "        df_dataset['Colonizzazione Candida Multifocale 2'][i] = np.nan\n",
    "df_dataset = df_dataset.iloc[:, list(range(9)) + [278] + list(range(10,278))]\n",
    "print('Number of episodes with multi-focal colonisation by Candida:\\n', df_dataset['Colonizzazione Candida Multifocale 2'].value_counts())\n",
    "print('--------------------------------------------------------------')\n",
    "print('Number of missingness:',df_dataset['Colonizzazione Candida Multifocale 2'].isnull().sum())"
   ]
  },
  {
   "cell_type": "code",
   "execution_count": null,
   "id": "a5ae7e6c-41bd-430a-85de-af9cf59d9adb",
   "metadata": {},
   "outputs": [],
   "source": [
    "#Sites explored:\n",
    "print('Number of sites explored per episode:\\n', df_dataset['Numero Siti Esplorati'].value_counts())\n",
    "print('--------------------------------------------------------------')\n",
    "\n",
    "print('Number of colonizations by Candida in the lower respiratory tract:\\n', df_dataset['Colonizzazione Candida Basse vie Respiratorie'].value_counts())\n",
    "print('--------------------------------------------------------------')\n",
    "print('Number of missingness:',df_dataset['Colonizzazione Candida Basse vie Respiratorie'].isnull().sum())\n",
    "\n",
    "print('Number of colonizations by Candida in the urinary system:\\n', df_dataset['Colonizzazione Candida Urinario'].value_counts())\n",
    "print('--------------------------------------------------------------')\n",
    "print('Number of missingness:',df_dataset['Colonizzazione Candida Urinario'].isnull().sum())\n",
    "\n",
    "print('Number of colonizations by Candida in the digestive tract:\\n', df_dataset['Colonizzazione Candida Digestivo'].value_counts())\n",
    "print('--------------------------------------------------------------')\n",
    "print('Number of missingness:',df_dataset['Colonizzazione Candida Digestivo'].isnull().sum())"
   ]
  },
  {
   "cell_type": "code",
   "execution_count": null,
   "id": "dc91f4dc-6d23-4cd2-8442-385e11c0c495",
   "metadata": {},
   "outputs": [],
   "source": [
    "#Assign None to laboratory tests with value 99999:\n",
    "for i in range(df_dataset.shape[0]):\n",
    "    for j in range(14, df_dataset.shape[1]):\n",
    "        if pd.isna(df_dataset.iloc[i, j]):\n",
    "            df_dataset.iloc[i, j] = None\n",
    "        elif df_dataset.iloc[i, j] == 99999:\n",
    "            df_dataset.iloc[i, j] = None"
   ]
  },
  {
   "cell_type": "markdown",
   "id": "69276b1e",
   "metadata": {},
   "source": [
    "#### <font color='indianred'><b>EXPORT DATA SET</b></font>"
   ]
  },
  {
   "cell_type": "code",
   "execution_count": null,
   "id": "7ebcc3ea",
   "metadata": {},
   "outputs": [],
   "source": [
    "#Export data set to csv file:\n",
    "df_dataset.to_csv('01_Dataset.csv', sep=',')"
   ]
  }
 ],
 "metadata": {
  "kernelspec": {
   "display_name": "Python 3 (ipykernel)",
   "language": "python",
   "name": "python3"
  },
  "language_info": {
   "codemirror_mode": {
    "name": "ipython",
    "version": 3
   },
   "file_extension": ".py",
   "mimetype": "text/x-python",
   "name": "python",
   "nbconvert_exporter": "python",
   "pygments_lexer": "ipython3",
   "version": "3.9.13"
  }
 },
 "nbformat": 4,
 "nbformat_minor": 5
}
