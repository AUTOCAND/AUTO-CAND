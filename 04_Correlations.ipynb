{
 "cells": [
  {
   "cell_type": "markdown",
   "id": "1970a138-9efd-4624-a508-d153199286a0",
   "metadata": {},
   "source": [
    "# <font color='Crimson'><b>CORRELATIONS</b></font>"
   ]
  },
  {
   "cell_type": "markdown",
   "id": "4292af37-62d2-47ee-b328-cbc5255dcd69",
   "metadata": {},
   "source": [
    "#### <font color='indianred'><b>ON TRAINING SET</b></font>"
   ]
  },
  {
   "cell_type": "code",
   "execution_count": null,
   "id": "c1f4d7fc-024e-47d7-96af-347290291a47",
   "metadata": {},
   "outputs": [],
   "source": [
    "import pandas as pd\n",
    "from scipy.stats import chi2_contingency\n",
    "from scipy.stats import kruskal\n",
    "import seaborn as sns"
   ]
  },
  {
   "cell_type": "code",
   "execution_count": null,
   "id": "65828403-901c-4e48-bac5-273b6f804936",
   "metadata": {},
   "outputs": [],
   "source": [
    "X_training = pd.read_csv('03_X_training.csv',sep=',',index_col=0)\n",
    "X_training.head()"
   ]
  },
  {
   "cell_type": "code",
   "execution_count": null,
   "id": "0621e6f6-b65c-422f-bfbf-661b359d4ae5",
   "metadata": {},
   "outputs": [],
   "source": [
    "y_training = pd.read_csv('03_y_training.csv',sep=',',index_col=0)\n",
    "y_training.head()"
   ]
  },
  {
   "cell_type": "code",
   "execution_count": null,
   "id": "88b18483-fcd6-40c2-a566-9d0de9bb7503",
   "metadata": {},
   "outputs": [],
   "source": [
    "#Merge X_training (useful features) and y_training in training set:\n",
    "training = X_training.drop(X_training.columns[[0,3,4,5,8]], axis=1)\n",
    "training['CANDIDEMIA'] = y_training\n",
    "training.head()"
   ]
  },
  {
   "cell_type": "code",
   "execution_count": null,
   "id": "85ccb05c-90b1-43dc-a5c6-62df743a6772",
   "metadata": {},
   "outputs": [],
   "source": [
    "#Correlations between the (categorical) outcome:\n",
    "training_copy = training.copy()"
   ]
  },
  {
   "cell_type": "code",
   "execution_count": null,
   "id": "a0fcbe86-961a-4bdf-8d6c-14b19c7edf36",
   "metadata": {},
   "outputs": [],
   "source": [
    "#And categorical features:\n",
    "training_copy['SESSO'] = training_copy['SESSO'].astype('category')\n",
    "training_copy['30gg'] = training_copy['30gg'].astype('category')\n",
    "training_copy['CANDIDEMIA'] = training_copy['CANDIDEMIA'].astype('category')"
   ]
  },
  {
   "cell_type": "code",
   "execution_count": null,
   "id": "fa6da2af-0b2c-426e-999c-d5538abdf4e5",
   "metadata": {},
   "outputs": [],
   "source": [
    "#Contingency table:\n",
    "pd.crosstab(training_copy['SESSO'], training_copy['CANDIDEMIA'])"
   ]
  },
  {
   "cell_type": "code",
   "execution_count": null,
   "id": "51abead3-c9c6-4e0a-aae1-53203a3fa167",
   "metadata": {},
   "outputs": [],
   "source": [
    "#Chi-square test:\n",
    "print('Candidemia and gender: p = ', chi2_contingency(pd.crosstab(training_copy['SESSO'], training_copy['CANDIDEMIA'])).pvalue)"
   ]
  },
  {
   "cell_type": "code",
   "execution_count": null,
   "id": "d9b315a5-027b-49f7-adc7-ec763c135b88",
   "metadata": {},
   "outputs": [],
   "source": [
    "#Contingency table:\n",
    "pd.crosstab(training_copy['30gg'], training_copy['CANDIDEMIA'])"
   ]
  },
  {
   "cell_type": "code",
   "execution_count": null,
   "id": "57eaca34-91f0-472b-83da-d0fd6c7225fd",
   "metadata": {},
   "outputs": [],
   "source": [
    "#Chi-square test:\n",
    "print('Candidemia and previous colonization: p = ', chi2_contingency(pd.crosstab(training_copy['30gg'], training_copy['CANDIDEMIA'])).pvalue)"
   ]
  },
  {
   "cell_type": "code",
   "execution_count": null,
   "id": "18cdc88a-60e0-4a9c-9959-1e0ab3d11b27",
   "metadata": {},
   "outputs": [],
   "source": [
    "#And coninuous features:\n",
    "candidemia = training[training['CANDIDEMIA'] == 1.0]\n",
    "bacteraemia = training[training['CANDIDEMIA'] == 0.0]"
   ]
  },
  {
   "cell_type": "code",
   "execution_count": null,
   "id": "61ed8e07-d4f1-4522-b650-d9472db198e7",
   "metadata": {},
   "outputs": [],
   "source": [
    "#Kruskal-Wallis test:\n",
    "print('Candidemia and age: p = ',kruskal(candidemia['ETA'],bacteraemia['ETA']).pvalue)\n",
    "print('Candidemia and basophils: p = ',kruskal(candidemia['BASOFILI'],bacteraemia['BASOFILI'],nan_policy='omit').pvalue)\n",
    "print('Candidemia and eosinophils: p = ',kruskal(candidemia['EOSINOFILI'],bacteraemia['EOSINOFILI'],nan_policy='omit').pvalue)\n",
    "print('Candidemia and linfocites: p = ',kruskal(candidemia['LINFOCITI'],bacteraemia['LINFOCITI'],nan_policy='omit').pvalue)\n",
    "print('Candidemia and monocytes: p = ',kruskal(candidemia['MONOCITI'],bacteraemia['MONOCITI'],nan_policy='omit').pvalue)\n",
    "print('Candidemia and neutrophils: p = ',kruskal(candidemia['NEUTROFILI'],bacteraemia['NEUTROFILI'],nan_policy='omit').pvalue)\n",
    "print('Candidemia and hematocrit: p = ',kruskal(candidemia['EMATOCRITO'],bacteraemia['EMATOCRITO'],nan_policy='omit').pvalue)\n",
    "print('Candidemia and hemoglobin: p = ',kruskal(candidemia['EMOGLOBINA'],bacteraemia['EMOGLOBINA'],nan_policy='omit').pvalue)\n",
    "print('Candidemia and white blood cells: p = ',kruskal(candidemia['GLOBULI_B'],bacteraemia['GLOBULI_B'],nan_policy='omit').pvalue)\n",
    "print('Candidemia and red globides: p = ',kruskal(candidemia['GLOBULI_R'],bacteraemia['GLOBULI_R'],nan_policy='omit').pvalue)\n",
    "print('Candidemia and platelets: p = ',kruskal(candidemia['PIASTRINE'],bacteraemia['PIASTRINE'],nan_policy='omit').pvalue)\n",
    "print('Candidemia and aPTT: p = ',kruskal(candidemia['APTT'],bacteraemia['APTT'],nan_policy='omit').pvalue)\n",
    "print('Candidemia and INR: p = ',kruskal(candidemia['INR'],bacteraemia['INR'],nan_policy='omit').pvalue)\n",
    "print('Candidemia and prothrombin: p = ',kruskal(candidemia['TEMPO_PROTROMB'],bacteraemia['TEMPO_PROTROMB'],nan_policy='omit').pvalue)\n",
    "print('Candidemia and uric acid: p = ',kruskal(candidemia['ACIDO_URICO'],bacteraemia['ACIDO_URICO'],nan_policy='omit').pvalue)\n",
    "print('Candidemia and ALP: p = ',kruskal(candidemia['ALP'],bacteraemia['ALP'],nan_policy='omit').pvalue)\n",
    "print('Candidemia and ALT: p = ',kruskal(candidemia['ALT'],bacteraemia['ALT'],nan_policy='omit').pvalue)\n",
    "print('Candidemia and AST: p = ',kruskal(candidemia['AST'],bacteraemia['AST'],nan_policy='omit').pvalue)\n",
    "print('Candidemia and total bilirubin: p = ',kruskal(candidemia['BILIRUBINA_TOT'],bacteraemia['BILIRUBINA_TOT'],nan_policy='omit').pvalue)\n",
    "print('Candidemia and creatinine: p = ',kruskal(candidemia['CREATININA'],bacteraemia['CREATININA'],nan_policy='omit').pvalue)\n",
    "print('Candidemia and GGT: p = ',kruskal(candidemia['GGT'],bacteraemia['GGT'],nan_policy='omit').pvalue)\n",
    "print('Candidemia and LAD: p = ',kruskal(candidemia['LAD'],bacteraemia['LAD'],nan_policy='omit').pvalue)\n",
    "print('Candidemia and urea: p = ',kruskal(candidemia['UREA'],bacteraemia['UREA'],nan_policy='omit').pvalue)\n",
    "print('Candidemia and glucose: p = ',kruskal(candidemia['GLUCOSIO'],bacteraemia['GLUCOSIO'],nan_policy='omit').pvalue)\n",
    "print('Candidemia and albumin: p = ',kruskal(candidemia['ALBUMINA'],bacteraemia['ALBUMINA'],nan_policy='omit').pvalue)\n",
    "print('Candidemia and PCR: p = ',kruskal(candidemia['PCR'],bacteraemia['PCR'],nan_policy='omit').pvalue)\n",
    "print('Candidemia and total proteins: p = ',kruskal(candidemia['PROTEINE_TOT'],bacteraemia['PROTEINE_TOT'],nan_policy='omit').pvalue)"
   ]
  },
  {
   "cell_type": "code",
   "execution_count": null,
   "id": "2eb65673-cf8e-4a26-9fe9-88c5b3f891aa",
   "metadata": {},
   "outputs": [],
   "source": [
    "#Correlations between categorical features:\n",
    "#Contingency table:\n",
    "pd.crosstab(training_copy['SESSO'], training_copy['30gg'])"
   ]
  },
  {
   "cell_type": "code",
   "execution_count": null,
   "id": "5781c32b-270a-44f4-b2fd-0c71ffbc2ec2",
   "metadata": {},
   "outputs": [],
   "source": [
    "#Chi-square test:\n",
    "print('Gender and previous colonization: p = ', chi2_contingency(pd.crosstab(training_copy['SESSO'], training_copy['30gg'])).pvalue)"
   ]
  },
  {
   "cell_type": "code",
   "execution_count": null,
   "id": "f909d815-5408-420f-aba3-1e6fc791b9f4",
   "metadata": {},
   "outputs": [],
   "source": [
    "#Correlations between continuous features:\n",
    "training_continuous = training.drop(training.columns[[0,2,3,30]], axis=1)\n",
    "#Correlation matrix:\n",
    "rounded_corr_matrix = training_continuous.corr().round(2)\n",
    "heatmap = sns.heatmap(rounded_corr_matrix, annot=True)\n",
    "heatmap.set_title('Correlation Heatmap', fontdict={'fontsize':12}, pad=12)"
   ]
  },
  {
   "cell_type": "markdown",
   "id": "bbb57538-8b90-4577-b94f-a8fcaef75aed",
   "metadata": {},
   "source": [
    "#### <font color='indianred'><b>WITH BDG AND PCT</b></font>"
   ]
  },
  {
   "cell_type": "code",
   "execution_count": null,
   "id": "19fe2d5a-b6f8-45e1-9f2b-fed42f178c74",
   "metadata": {},
   "outputs": [],
   "source": [
    "df_complete1 = pd.read_csv('02_1_Dataset.csv', sep=',',index_col=0)\n",
    "df_complete1.head()"
   ]
  },
  {
   "cell_type": "code",
   "execution_count": null,
   "id": "fa781411-7a3d-42d0-b10e-d77af7ed09d3",
   "metadata": {},
   "outputs": [],
   "source": [
    "#Add to the training set the correspondent values of BDG and PCT:\n",
    "df_complete1_BDG_PCT = df_complete1.iloc[:,[40,42]]\n",
    "df_complete1_training = df_complete1_BDG_PCT.merge(training, how='right',right_index=True,left_index=True)\n",
    "df_complete1_training.head()"
   ]
  },
  {
   "cell_type": "code",
   "execution_count": null,
   "id": "993957d9-88d0-4d20-a866-4bd139053aca",
   "metadata": {},
   "outputs": [],
   "source": [
    "#And continuous features:\n",
    "df_complete1_training_copy = df_complete1_training.copy()\n",
    "df_complete1_training_continuous = df_complete1_training_copy.drop(df_complete1_training_copy.columns[[2,4,5,32]], axis=1)\n",
    "#Correlation matrix:\n",
    "rounded_corr_matrix_bis = df_complete1_training_continuous.corr().round(2)\n",
    "print('Continuous features and BGD: rho = \\n',rounded_corr_matrix_bis[\"B_D_GLUCANO\"].sort_values(ascending=False))\n",
    "print('Continuous features and PCT: rho = \\n',rounded_corr_matrix_bis[\"PROCALCITONINA\"].sort_values(ascending=False))"
   ]
  },
  {
   "cell_type": "code",
   "execution_count": null,
   "id": "e9a5fdd1-798b-4e0d-89c0-4132402f43e6",
   "metadata": {},
   "outputs": [],
   "source": [
    "#And categorical features:\n",
    "males = df_complete1_training_copy[df_complete1_training_copy['SESSO'] == 1.0]\n",
    "females = df_complete1_training_copy[df_complete1_training_copy['SESSO'] == 0.0]\n",
    "previous_candida = df_complete1_training_copy[df_complete1_training_copy['30gg'] == 1.0]\n",
    "non_previous_candida = df_complete1_training_copy[df_complete1_training_copy['30gg'] == 0.0]\n",
    "candidemia = df_complete1_training_copy[df_complete1_training_copy['CANDIDEMIA'] == 1.0]\n",
    "bacteraemia = df_complete1_training_copy[df_complete1_training_copy['CANDIDEMIA'] == 0.0]\n",
    "#Kruskal-Wallis test:\n",
    "print('BGD and gender: p = ',kruskal(males['B_D_GLUCANO'],females['B_D_GLUCANO'],nan_policy='omit').pvalue)\n",
    "print('PCT and gender: p = ',kruskal(males['PROCALCITONINA'],females['PROCALCITONINA'],nan_policy='omit').pvalue)\n",
    "print('BGD and previous colonization: p = ',kruskal(previous_candida['B_D_GLUCANO'],non_previous_candida['B_D_GLUCANO'],nan_policy='omit').pvalue)\n",
    "print('PCT and previous colonization: p = ',kruskal(previous_candida['PROCALCITONINA'],non_previous_candida['PROCALCITONINA'],nan_policy='omit').pvalue)\n",
    "print('BGD and candidemia: p = ',kruskal(candidemia['B_D_GLUCANO'],bacteraemia['B_D_GLUCANO'],nan_policy='omit').pvalue)\n",
    "print('PCT and candidemia: p = ',kruskal(candidemia['PROCALCITONINA'],bacteraemia['PROCALCITONINA'],nan_policy='omit').pvalue)"
   ]
  },
  {
   "cell_type": "code",
   "execution_count": null,
   "id": "b762427c-8c06-4ee6-814f-21a774255cf8",
   "metadata": {},
   "outputs": [],
   "source": [
    "#No data set needs to be exported for following analysis"
   ]
  }
 ],
 "metadata": {
  "kernelspec": {
   "display_name": "Python 3 (ipykernel)",
   "language": "python",
   "name": "python3"
  },
  "language_info": {
   "codemirror_mode": {
    "name": "ipython",
    "version": 3
   },
   "file_extension": ".py",
   "mimetype": "text/x-python",
   "name": "python",
   "nbconvert_exporter": "python",
   "pygments_lexer": "ipython3",
   "version": "3.9.13"
  }
 },
 "nbformat": 4,
 "nbformat_minor": 5
}
