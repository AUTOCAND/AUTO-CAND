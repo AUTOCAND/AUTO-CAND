{
 "cells": [
  {
   "cell_type": "markdown",
   "id": "612f1297",
   "metadata": {},
   "source": [
    "# <font color='Crimson'><b>MISSING DATA MANAGEMENT</b></font>"
   ]
  },
  {
   "cell_type": "code",
   "execution_count": null,
   "id": "e7f10853-5a17-4950-92ed-1c97ca0705c7",
   "metadata": {},
   "outputs": [],
   "source": [
    "#Import packages:\n",
    "import pandas as pd\n",
    "import numpy as np\n",
    "import matplotlib.pyplot as plt\n",
    "import seaborn as sns\n",
    "."
   ]
  },
  {
   "cell_type": "code",
   "execution_count": null,
   "id": "a2ea8930",
   "metadata": {},
   "outputs": [],
   "source": [
    "#Import datasets:\n",
    "df_dataset = pd.read_csv('01_Dataset.csv',sep=',',index_col=0)\n",
    "df_dataset.head()"
   ]
  },
  {
   "cell_type": "code",
   "execution_count": null,
   "id": "c39435b7",
   "metadata": {},
   "outputs": [],
   "source": [
    "#Count of missing values per episode:\n",
    "df_dataset_clean = df_dataset.drop(df_dataset.columns[[0,4,5]], axis=1)\n",
    "df_dataset_clean_T = df_dataset_clean.T\n",
    "#print(df_dataset_clean_T.shape)\n",
    "ep_missing = (df_dataset_clean_T.isna().sum() / df_dataset_clean_T.shape[0]) * 100\n",
    "ep_missing_sorted = ep_missing.sort_values()\n",
    "#print(ep_missing_sorted.shape)\n",
    "\n",
    "print('Number of episodes with more than 50% of missing values:',ep_missing_sorted[ep_missing_sorted > 50].shape[0], \n",
    "      '(',round(ep_missing_sorted[ep_missing_sorted > 50].shape[0] / df_dataset_clean_T.shape[1]*100,2),'%)')\n",
    "print('--------------------------------------------------------------')\n",
    "print('Quartiles of the distribution of missing values per episode:\\n',ep_missing_sorted.quantile(q=list(np.arange(0, 1.1, 0.1))))"
   ]
  },
  {
   "cell_type": "code",
   "execution_count": null,
   "id": "b5ab1cf0-9687-44ad-8a04-110c0fecc862",
   "metadata": {},
   "outputs": [],
   "source": [
    "#Visualization of the distribution of missing values per episode:\n",
    "ecdf = pd.Series(ep_missing_sorted).value_counts(normalize=True).sort_index().cumsum()\n",
    "\n",
    "plt.plot(ecdf.index, ecdf)\n",
    "plt.xlabel(\"% of missingness\")\n",
    "plt.title(\"Distribution function of the % of missing values per episode\")\n",
    "\n",
    "plt.axhline(y=0.5, color='r', linestyle='-.')\n",
    "plt.axvline(x=ep_missing_sorted.quantile(0.5), color='r', linestyle='-.')\n",
    "plt.axhline(y=1-ep_missing_sorted[ep_missing_sorted > 50].shape[0]/df_dataset_clean_T.shape[1], color='b', linestyle='-.')\n",
    "plt.axvline(x=50, color='b', linestyle='-.')\n",
    "\n",
    "plt.show()"
   ]
  },
  {
   "cell_type": "markdown",
   "id": "e820093f",
   "metadata": {},
   "source": [
    "The majority of missing values is in the laboratory features (because of their sequential nature). Together with clinicians we decided that we keep only the first value (if present) for each laboratory exams result between the endpoints: 0,-1,-2."
   ]
  },
  {
   "cell_type": "code",
   "execution_count": null,
   "id": "ccadee64",
   "metadata": {},
   "outputs": [],
   "source": [
    "#Only the first laboratory value between 0 and -2:\n",
    "df_merged = pd.DataFrame(np.zeros((df_dataset.shape[0], 47)), columns=range(0,47))\n",
    "columns_names = [\"ID\",\"SESSO\",\"ETA\",\"REPARTO\",\"DATA_PRELIEVO\",\"MICRO\",\"CANDIDEMIA\",\"MISTA\",\"30gg\",\"MULTIFOCALE\",\n",
    "              \"N_SITI\",\"RESP\",\"URINARIO\",\"DIGESTIVO\",\"BASOFILI\",\"EOSINOFILI\",\"LINFOCITI\",\"MONOCITI\",\n",
    "              \"NEUTROFILI\",\"EMATOCRITO\",\"EMOGLOBINA\",\"GLOBULI_B\",\"GLOBULI_R\",\"PIASTRINE\",\"APTT\",\n",
    "              \"INR\",\"TEMPO_PROTROMB\",\"ACIDO_URICO\",\"ALP\",\"ALT\",\"AST\",\"BILIRUBINA_DIR\",\"BILIRUBINA_TOT\",\n",
    "              \"CREATININA\",\"GGT\",\"LAD\",\"UREA\",\"EMO_GLICATA\",\"GLUCOSIO\",\"ALBUMINA\",\"B_D_GLUCANO\",\"PCR\",\n",
    "              \"PROCALCITONINA\",\"PROTEINE_TOT\",\"ACIDO_LATTICO_ART\",\"ACIDO_LATTICO_VEN\",\"TRIGLICERIDI\"]\n",
    "\n",
    "df_merged.columns = columns_names\n",
    "n_columns = df_merged.shape[1]\n",
    "index_last_a = df_dataset.columns.get_loc(\"Colonizzazione Candida Digestivo\")\n",
    "\n",
    "for i in range(df_dataset.shape[0]):\n",
    "    for j in range(n_columns):\n",
    "        if j <= index_last_a:\n",
    "            df_merged.iloc[i, j] = df_dataset.iloc[i, j]\n",
    "        else:\n",
    "            if not pd.isna(df_dataset.iloc[i, j]):\n",
    "                df_merged.iloc[i, j] = df_dataset.iloc[i, j]\n",
    "            else:\n",
    "                if not pd.isna(df_dataset.iloc[i, j+33]):\n",
    "                    df_merged.iloc[i, j] = df_dataset.iloc[i, j+33]\n",
    "                else:\n",
    "                    df_merged.iloc[i, j] = df_dataset.iloc[i, j+33*2]\n",
    "                    \n",
    "df_merged[\"SESSO\"] = df_merged[\"SESSO\"].astype('category')\n",
    "df_merged[\"ETA\"] = df_merged[\"ETA\"].astype(int)\n",
    "df_merged[\"REPARTO\"] = df_merged[\"REPARTO\"].astype('category')\n",
    "df_merged[\"CANDIDEMIA\"] = df_merged[\"CANDIDEMIA\"].astype('category')\n",
    "df_merged[\"MISTA\"] = df_merged[\"MISTA\"].astype('category')\n",
    "df_merged[\"30gg\"] = df_merged[\"30gg\"].astype('category')\n",
    "df_merged[\"MULTIFOCALE\"] = df_merged[\"MULTIFOCALE\"].astype('category')\n",
    "df_merged[\"N_SITI\"] = df_merged[\"N_SITI\"].astype('category')\n",
    "df_merged[\"RESP\"] = df_merged[\"RESP\"].astype('category')\n",
    "df_merged[\"URINARIO\"] = df_merged[\"URINARIO\"].astype('category')\n",
    "df_merged[\"DIGESTIVO\"] = df_merged[\"DIGESTIVO\"].astype('category')\n",
    "#df_merged.info()\n",
    "df_merged.head()"
   ]
  },
  {
   "cell_type": "code",
   "execution_count": null,
   "id": "799b88c7",
   "metadata": {},
   "outputs": [],
   "source": [
    "#Count of missing values per episode in the new data set:\n",
    "df_merged_clean = df_merged.drop(df_merged.columns[[0,4,5]], axis=1)\n",
    "df_merged_clean_T = df_merged_clean.T\n",
    "#print(df_merged_T.shape)\n",
    "ep_missing_bis = (df_merged_clean_T.isna().sum() / df_merged_clean_T.shape[0]) * 100\n",
    "ep_missing_bis_sorted = ep_missing_bis.sort_values()\n",
    "#print(ep_missing_bis_sorted.shape)\n",
    "\n",
    "print('Number of episodes with more than 50% of missing values:',ep_missing_bis_sorted[ep_missing_bis_sorted > 50].shape[0], \n",
    "      '(',round(ep_missing_bis_sorted[ep_missing_bis_sorted > 50].shape[0] / df_merged_clean_T.shape[1]*100,2),'%)')\n",
    "print('--------------------------------------------------------------')\n",
    "print('Quartiles of the distribution of missing values per episode:\\n',ep_missing_bis_sorted.quantile(q=list(np.arange(0, 1.1, 0.1))))"
   ]
  },
  {
   "cell_type": "code",
   "execution_count": null,
   "id": "6357a388-21d1-4065-b4fe-080804ba9c4c",
   "metadata": {},
   "outputs": [],
   "source": [
    "#Visualization of the (new) distribution of missing values per episode:\n",
    "ecdf_bis = pd.Series(ep_missing_bis_sorted).value_counts(normalize=True).sort_index().cumsum()\n",
    "\n",
    "plt.plot(ecdf_bis.index, ecdf_bis)\n",
    "plt.xlabel(\"% of missingness\")\n",
    "plt.title(\"Distribution function of the % of missing values per episode\")\n",
    "\n",
    "plt.axhline(y=0.5, color='r', linestyle='-.')\n",
    "plt.axvline(x=ep_missing_bis_sorted.quantile(0.5), color='r', linestyle='-.')\n",
    "plt.axhline(y=1-ep_missing_bis_sorted[ep_missing_bis_sorted > 50].shape[0]/df_merged_clean_T.shape[1], color='b', linestyle='-.')\n",
    "plt.axvline(x=50, color='b', linestyle='-.')\n",
    "\n",
    "plt.show()"
   ]
  },
  {
   "cell_type": "markdown",
   "id": "96f0bea3",
   "metadata": {},
   "source": [
    "We repeat the same evaluation only on the candidemia episodes because we don't want to lose too many (since they are only 10% of the total episodes): we observe the rate of missing per episode by selecting only the candidemia episodes ($x\\%$ out of 1636):"
   ]
  },
  {
   "cell_type": "code",
   "execution_count": null,
   "id": "ffd997b6",
   "metadata": {},
   "outputs": [],
   "source": [
    "#Add the % of missingness per episode to the data set:\n",
    "df_missing = pd.concat([df_merged, pd.DataFrame(ep_missing_bis)], axis=1)\n",
    "#Select candidemia episodes only:\n",
    "df_candidemie = df_missing[df_missing['CANDIDEMIA']==1]\n",
    "candidemia_columns = columns_names[:]\n",
    "candidemia_columns.append('% missing')\n",
    "df_candidemie.columns = candidemia_columns\n",
    "\n",
    "print('Number of candidemia episodes with more than 50% of missing values:',df_candidemie['% missing'][df_candidemie['% missing'] > 50].shape[0], \n",
    "      '(',round(df_candidemie['% missing'][df_candidemie['% missing'] > 50].shape[0] / df_candidemie.shape[0]*100,2),'%)')\n",
    "print('--------------------------------------------------------------')\n",
    "print('Quartiles of the distribution of missing values per episode:\\n',df_candidemie['% missing'].quantile(q=list(np.arange(0, 1.1, 0.1))))"
   ]
  },
  {
   "cell_type": "code",
   "execution_count": null,
   "id": "01797184-56fe-4f1c-87f5-f718ed629e01",
   "metadata": {},
   "outputs": [],
   "source": [
    "#Visualization of the distribution of missing values per candidemia episode:\n",
    "ecdf_tris = pd.Series(df_candidemie['% missing']).value_counts(normalize=True).sort_index().cumsum()\n",
    "\n",
    "plt.plot(ecdf_tris.index, ecdf_tris)\n",
    "plt.xlabel(\"% of missingness\")\n",
    "plt.title(\"Distribution function of the % of missing values per candidemia episode\")\n",
    "\n",
    "plt.axhline(y=0.5, color='r', linestyle='-.')\n",
    "plt.axvline(x=df_candidemie['% missing'].quantile(0.5), color='r', linestyle='-.')\n",
    "plt.axhline(y=1-df_candidemie['% missing'][df_candidemie['% missing'] > 50].shape[0]/df_candidemie.shape[0], color='b', linestyle='-.')\n",
    "plt.axvline(x=50, color='b', linestyle='-.')\n",
    "\n",
    "plt.show()"
   ]
  },
  {
   "cell_type": "markdown",
   "id": "6e6a1473",
   "metadata": {},
   "source": [
    "#### <font color='indianred'><b>CHOICE 1: We consider 77.9% of candidemia episodes </b></font>"
   ]
  },
  {
   "cell_type": "markdown",
   "id": "7e390dde",
   "metadata": {},
   "source": [
    "We apply the same criterion for the episodes of bacteraemia and keep the episodes (regardless of candidemia or bacteremia) with a share of missing less or equal to 50%:"
   ]
  },
  {
   "cell_type": "code",
   "execution_count": null,
   "id": "7489e3c3",
   "metadata": {},
   "outputs": [],
   "source": [
    "#Keep episodes (regardless of candidemia or bacteremia) with a % of missing less or equal to 50%:\n",
    "df_missing.columns = candidemia_columns\n",
    "df_choice1 = df_missing[df_missing['% missing'] <= 50]\n",
    "df_complete1 = df_choice1.drop(df_choice1.columns[47], axis=1)\n",
    "print('Number of episodes kept:',df_complete1.shape[0])\n",
    "print('--------------------------------------------------------------')\n",
    "df_complete1.head()"
   ]
  },
  {
   "cell_type": "markdown",
   "id": "389c4c47",
   "metadata": {},
   "source": [
    "<b>Have the proportions of candidemias been maintained with respect to the initial dataset?</b>"
   ]
  },
  {
   "cell_type": "code",
   "execution_count": null,
   "id": "95400a60",
   "metadata": {},
   "outputs": [],
   "source": [
    "#Comparison between proportions of candidemias:\n",
    "print('Number of candidemias in the ORIGINAL dataset: ', pd.value_counts(df_merged['CANDIDEMIA'])[1], \n",
    "      '(',round(pd.value_counts(df_merged['CANDIDEMIA'], normalize=True)[1]*100,2),'%)')\n",
    "print('--------------------------------------------------------------')\n",
    "print('Number of candidemias in the CHOICE1 dataset: ', pd.value_counts(df_complete1['CANDIDEMIA'])[1], \n",
    "      '(',round(pd.value_counts(df_complete1['CANDIDEMIA'], normalize=True)[1]*100,2),'%)')"
   ]
  },
  {
   "cell_type": "code",
   "execution_count": null,
   "id": "fbf2b317",
   "metadata": {},
   "outputs": [],
   "source": [
    "#Count of missing values per variable:\n",
    "df_complete1_missing = df_complete1.isna().mean() * 100 \n",
    "df_complete1_missing.sort_values(ascending=False, inplace=True)\n",
    "\n",
    "#Figure S1\n",
    "#df_complete1_bis = df_complete1.drop(df_complete1.columns[[0,4,5]], axis=1) \n",
    "#df_complete1_missing = df_complete1_bis.isna().mean() * 100 \n",
    "#df_complete1_missing.sort_values(ascending=False, inplace=True)\n",
    "#columns_names = [\"Glycated hemoglobin\",\"BDG\",                            \n",
    "#                 \"Gastrointestinal colonization\",\n",
    "#                 \"Venous lactate\", \"Arterial lactate\",\"Triglycerides\",\n",
    "#                 \"Respiratory colonization\",\n",
    "#                 \"Multifocal Candida colonization\",\"PCT\",\n",
    "#                 \"Direct bilirubin\",\"Urinary colonization\",\n",
    "#                 \"Lymphocyte cells count\",\"Monocyte cells count\",\n",
    "#                 \"Basophil cells count\",\"Eosinophil cells count\",\n",
    "#                 \"AST\",\"Candida colonization\",\"Uric acid\",\"Total proteins\",\"LDH\",\"Albumin\",\"Urea\",\n",
    "#                 \"aPTT\",\"INR\",\"Prothrombin time\",\"CRP\",\"ALP\",\"Total bilirubin\",\n",
    "#                 \"Glucose\",\"GGT\", \"ALT\",\"Neutrophil cells count\",\"Creatinine\",\n",
    "#                 \"Ward of stay\",\"Hematocrit\",\"Hemoglobin\",\"Red cells count\",\n",
    "#                 \"Platelets count\",\"White cells count\",\n",
    "#                 \"# of explored colonization sites\",\"Mixed infection\",\n",
    "#                 \"Candidemia\",\"Age\",\"Sex\"]\n",
    "#df_complete1_missing.index = columns_names\n",
    "\n",
    "plt.bar(df_complete1_missing.index, df_complete1_missing.values, color=\"#80b1d3\")\n",
    "plt.xlabel(\"Variable\")\n",
    "plt.ylabel(\"% of Missing Values\")\n",
    "#plt.title(\"% of Missing Values for Each Variable\")\n",
    "plt.xticks(rotation=90,size=6)\n",
    "plt.axhline(y=50, color='#e41a1c', linestyle='-.')\n",
    "#nome_figura = '<insert_your_path>/FigureS1.pdf'\n",
    "#plt.savefig(nome_figura,dpi = 300,bbox_inches='tight')\n",
    "plt.show()"
   ]
  },
  {
   "cell_type": "markdown",
   "id": "996ca1b0",
   "metadata": {},
   "source": [
    "#### <font color='indianred'><b>CHOICE 2: Max missing level 50% per feature</b></font>"
   ]
  },
  {
   "cell_type": "code",
   "execution_count": null,
   "id": "7abbc297",
   "metadata": {},
   "outputs": [],
   "source": [
    "#Discard variables with more than 50% missing values:\n",
    "df_complete2 = df_complete1[df_complete1_missing[df_complete1_missing <= 50].index]\n",
    "df_complete2 = df_complete2.reindex(columns=['ID','SESSO','ETA','REPARTO','DATA_PRELIEVO',\n",
    "                          'MICRO','CANDIDEMIA','MISTA','30gg','N_SITI',\n",
    "                          'BASOFILI','EOSINOFILI','LINFOCITI','MONOCITI',\n",
    "                          'NEUTROFILI','EMATOCRITO','EMOGLOBINA',\n",
    "                          'GLOBULI_B','GLOBULI_R','PIASTRINE','APTT',\n",
    "                          'INR','TEMPO_PROTROMB','ACIDO_URICO','ALP',\n",
    "                          'ALT','AST','BILIRUBINA_TOT','CREATININA','GGT',\n",
    "                          'LAD','UREA','GLUCOSIO','ALBUMINA','PCR','PROTEINE_TOT'])\n",
    "\n",
    "print('Variables with less or equal than 50% of missing values:', df_complete2.columns.values)\n",
    "print('--------------------------------------------------------------')\n",
    "print('Shape of the final dataset:', df_complete2.shape)"
   ]
  },
  {
   "cell_type": "code",
   "execution_count": null,
   "id": "9b6c0ffb",
   "metadata": {},
   "outputs": [],
   "source": [
    "#Descriptive statistics of laboratoty exams mantained:\n",
    "print('Main characteristics of laboratory exams mantained in the final data set:')\n",
    "df_complete2.iloc[:,10:37].describe()"
   ]
  },
  {
   "cell_type": "markdown",
   "id": "22b994ff",
   "metadata": {},
   "source": [
    "#### <font color='indianred'><b>EXPORT DATA SETS</b></font>"
   ]
  },
  {
   "cell_type": "code",
   "execution_count": null,
   "id": "8004f159",
   "metadata": {},
   "outputs": [],
   "source": [
    "#Export data sets to csv file:\n",
    "df_complete1.to_csv('02_1_Dataset.csv', sep=',') #all variables\n",
    "df_complete2.to_csv('02_2_Dataset.csv', sep=',') #variables with <=50% missing data"
   ]
  }
 ],
 "metadata": {
  "kernelspec": {
   "display_name": "Python 3 (ipykernel)",
   "language": "python",
   "name": "python3"
  },
  "language_info": {
   "codemirror_mode": {
    "name": "ipython",
    "version": 3
   },
   "file_extension": ".py",
   "mimetype": "text/x-python",
   "name": "python",
   "nbconvert_exporter": "python",
   "pygments_lexer": "ipython3",
   "version": "3.9.13"
  }
 },
 "nbformat": 4,
 "nbformat_minor": 5
}
