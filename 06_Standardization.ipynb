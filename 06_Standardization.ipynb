{
 "cells": [
  {
   "cell_type": "markdown",
   "id": "772dd18e-7635-47ff-b3b9-2b038a33bb72",
   "metadata": {},
   "source": [
    "# <font color='Crimson'><b>STANDARDIZATION</b></font>"
   ]
  },
  {
   "cell_type": "code",
   "execution_count": null,
   "id": "784b3b7b-5f9b-4517-bfe1-17755b6dc190",
   "metadata": {},
   "outputs": [],
   "source": [
    "import pandas as pd\n",
    "from sklearn.preprocessing import StandardScaler\n",
    "import numpy as np"
   ]
  },
  {
   "cell_type": "code",
   "execution_count": null,
   "id": "ba18494e-1db3-4dbc-8fbf-907d77193d38",
   "metadata": {},
   "outputs": [],
   "source": [
    "learning_imputed = pd.read_csv('05_Learning_imputed.csv',sep=',',index_col=0) \n",
    "learning_imputed.head()"
   ]
  },
  {
   "cell_type": "code",
   "execution_count": null,
   "id": "1cf23cc4-d6ca-4707-9edc-6a5b0376e323",
   "metadata": {},
   "outputs": [],
   "source": [
    "test_imputed = pd.read_csv('05_Test_imputed.csv',sep=',',index_col=0)\n",
    "test_imputed.head()"
   ]
  },
  {
   "cell_type": "code",
   "execution_count": null,
   "id": "06bcbfbb-528f-4826-8757-c805ad6eb907",
   "metadata": {},
   "outputs": [],
   "source": [
    "#Change the order of the columns of the two imputed set:\n",
    "learning_imputed = learning_imputed.reindex(columns=['CANDIDEMIA','MISTA','SESSO','30gg','ETA','BASOFILI','EOSINOFILI','LINFOCITI','MONOCITI',\n",
    "                                       'NEUTROFILI','EMATOCRITO','EMOGLOBINA','GLOBULI_B','GLOBULI_R','PIASTRINE','APTT',\n",
    "                                       'INR','TEMPO_PROTROMB','ACIDO_URICO','ALP','ALT','AST','BILIRUBINA_TOT','CREATININA','GGT',\n",
    "                                       'LAD','UREA','GLUCOSIO','ALBUMINA','PCR','PROTEINE_TOT'])\n",
    "learning_imputed.head()"
   ]
  },
  {
   "cell_type": "code",
   "execution_count": null,
   "id": "68c378f2-df50-4063-9ae8-080440ab4556",
   "metadata": {},
   "outputs": [],
   "source": [
    "test_imputed = test_imputed.reindex(columns=['CANDIDEMIA','MISTA','SESSO','30gg','ETA','BASOFILI','EOSINOFILI','LINFOCITI','MONOCITI',\n",
    "                                     'NEUTROFILI','EMATOCRITO','EMOGLOBINA','GLOBULI_B','GLOBULI_R','PIASTRINE','APTT',\n",
    "                                     'INR','TEMPO_PROTROMB','ACIDO_URICO','ALP','ALT','AST','BILIRUBINA_TOT','CREATININA','GGT',\n",
    "                                     'LAD','UREA','GLUCOSIO','ALBUMINA','PCR','PROTEINE_TOT'])\n",
    "test_imputed.head()"
   ]
  },
  {
   "cell_type": "code",
   "execution_count": null,
   "id": "892b36e5-1e58-4301-8a38-73b48760cccd",
   "metadata": {},
   "outputs": [],
   "source": [
    "#Define the scaler:\n",
    "scaler = StandardScaler()"
   ]
  },
  {
   "cell_type": "code",
   "execution_count": null,
   "id": "96901e77-ccb8-4e33-9f98-ace99a3f04ee",
   "metadata": {},
   "outputs": [],
   "source": [
    "#Fit of the scaler on the continuous features of the training set and scale:\n",
    "X_learning_std = pd.DataFrame(scaler.fit_transform(learning_imputed.iloc[:,4:learning_imputed.shape[1]]))"
   ]
  },
  {
   "cell_type": "code",
   "execution_count": null,
   "id": "61df95b1-681c-4e4e-ac91-d0c119306340",
   "metadata": {},
   "outputs": [],
   "source": [
    "#Scale the continuous features of the test set:\n",
    "X_test_std = pd.DataFrame(scaler.transform(test_imputed.iloc[:,4:test_imputed.shape[1]]))"
   ]
  },
  {
   "cell_type": "code",
   "execution_count": null,
   "id": "7d08f7a8-d822-4729-967c-53f6602e12c9",
   "metadata": {},
   "outputs": [],
   "source": [
    "#Add categorical features to the one just scaled:\n",
    "learning_std = pd.DataFrame(np.concatenate((learning_imputed.iloc[:,0:4], X_learning_std), axis=1))\n",
    "test_std = pd.DataFrame(np.concatenate((test_imputed.iloc[:,0:4], X_test_std), axis=1))\n",
    "#Change column names:\n",
    "learning_std.columns = learning_imputed.columns\n",
    "test_std.columns = test_imputed.columns"
   ]
  },
  {
   "cell_type": "code",
   "execution_count": null,
   "id": "82c94a29-1aa9-4e9f-9f2b-6baf82ebd333",
   "metadata": {},
   "outputs": [],
   "source": [
    "learning_std.head()"
   ]
  },
  {
   "cell_type": "code",
   "execution_count": null,
   "id": "81f728ea-c47f-47c1-9a23-6485b01af3b4",
   "metadata": {},
   "outputs": [],
   "source": [
    "test_std.head()"
   ]
  },
  {
   "cell_type": "markdown",
   "id": "9998a8aa-dee3-4f50-9673-9bf64484f6a9",
   "metadata": {},
   "source": [
    "#### <font color='indianred'><b>EXPORT DATA SETS</b></font>"
   ]
  },
  {
   "cell_type": "code",
   "execution_count": null,
   "id": "4f52d643-1941-44cf-a8d2-45d83f7b5467",
   "metadata": {},
   "outputs": [],
   "source": [
    "#Export data sets to csv file:\n",
    "learning_std.to_csv('06_Learning_standard.csv',sep=',') \n",
    "test_std.to_csv('06_Test_standard.csv',sep=',') "
   ]
  }
 ],
 "metadata": {
  "kernelspec": {
   "display_name": "Python 3 (ipykernel)",
   "language": "python",
   "name": "python3"
  },
  "language_info": {
   "codemirror_mode": {
    "name": "ipython",
    "version": 3
   },
   "file_extension": ".py",
   "mimetype": "text/x-python",
   "name": "python",
   "nbconvert_exporter": "python",
   "pygments_lexer": "ipython3",
   "version": "3.9.13"
  }
 },
 "nbformat": 4,
 "nbformat_minor": 5
}
