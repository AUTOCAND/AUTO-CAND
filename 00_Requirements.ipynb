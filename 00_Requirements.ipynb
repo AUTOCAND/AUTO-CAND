{
 "cells": [
  {
   "cell_type": "markdown",
   "id": "6e107220",
   "metadata": {},
   "source": [
    "# <font color='Crimson'><b>Requirements</b></font>"
   ]
  },
  {
   "cell_type": "code",
   "execution_count": null,
   "id": "bc922a2b",
   "metadata": {},
   "outputs": [],
   "source": [
    "!pip install numpy\n",
    "!pip install pandas\n",
    "!pip install matplotlib\n",
    "!pip install seaborn\n",
    "!pip install scipy\n",
    "!pip install scikit-learn\n",
    "!pip install tqdm\n",
    "!pip install IPython\n",
    "!pip install statistics\n",
    "!pip install statsmodels"
   ]
  }
 ],
 "metadata": {
  "kernelspec": {
   "display_name": "Python 3 (ipykernel)",
   "language": "python",
   "name": "python3"
  },
  "language_info": {
   "codemirror_mode": {
    "name": "ipython",
    "version": 3
   },
   "file_extension": ".py",
   "mimetype": "text/x-python",
   "name": "python",
   "nbconvert_exporter": "python",
   "pygments_lexer": "ipython3",
   "version": "3.9.13"
  }
 },
 "nbformat": 4,
 "nbformat_minor": 5
}
