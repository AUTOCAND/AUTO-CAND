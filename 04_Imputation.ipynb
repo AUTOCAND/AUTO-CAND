{
 "cells": [
  {
   "cell_type": "markdown",
   "id": "a5b32667-9d1b-4270-bd2c-c4368e8f723b",
   "metadata": {},
   "source": [
    "# <font color='Crimson'><b>IMPUTATION</b></font>"
   ]
  },
  {
   "cell_type": "code",
   "execution_count": null,
   "id": "d6649e72-c26b-4ac2-9b19-0331f01f0fdd",
   "metadata": {},
   "outputs": [],
   "source": [
    "import pandas as pd\n",
    "from sklearn.experimental import enable_iterative_imputer \n",
    "from sklearn.impute import IterativeImputer\n",
    "from sklearn.neighbors import KNeighborsRegressor"
   ]
  },
  {
   "cell_type": "code",
   "execution_count": null,
   "id": "deb346ad-c69b-434c-b4f6-d45018d0fc6b",
   "metadata": {},
   "outputs": [],
   "source": [
    "X_training = pd.read_csv('03_X_training.csv',sep=',',index_col=0)\n",
    "X_training.head()"
   ]
  },
  {
   "cell_type": "code",
   "execution_count": null,
   "id": "91beaae3-d27e-4a6d-8600-7eff70f48151",
   "metadata": {},
   "outputs": [],
   "source": [
    "y_training = pd.read_csv('03_y_training.csv',sep=',',index_col=0)\n",
    "y_training.head()"
   ]
  },
  {
   "cell_type": "code",
   "execution_count": null,
   "id": "b65c8e42-f873-439b-b8bd-46dd97fa0fbc",
   "metadata": {},
   "outputs": [],
   "source": [
    "X_test = pd.read_csv('03_X_test.csv',sep=',',index_col=0)\n",
    "X_test.head()"
   ]
  },
  {
   "cell_type": "code",
   "execution_count": null,
   "id": "da96bd29-ba85-426b-bab2-8568dbeb1ed9",
   "metadata": {},
   "outputs": [],
   "source": [
    "y_test = pd.read_csv('03_y_test.csv',sep=',',index_col=0)\n",
    "y_test.head()"
   ]
  },
  {
   "cell_type": "code",
   "execution_count": null,
   "id": "2710dafa-046c-4d67-ab9a-3494c1cd8553",
   "metadata": {},
   "outputs": [],
   "source": [
    "#Merge X_training (useful features) and y_training in training set:\n",
    "training = X_training.drop(X_training.columns[[0,3,4,5]], axis=1)\n",
    "training['CANDIDEMIA'] = y_training\n",
    "training.head()"
   ]
  },
  {
   "cell_type": "code",
   "execution_count": null,
   "id": "ad0434ae-fd5a-4ec9-9b0d-3c6b26c4d336",
   "metadata": {},
   "outputs": [],
   "source": [
    "#Merge X_test (useful features) and y_test in training set:\n",
    "test = X_test.drop(X_test.columns[[0,3,4,5]], axis=1)\n",
    "test['CANDIDEMIA'] = y_test\n",
    "test.head()"
   ]
  },
  {
   "cell_type": "code",
   "execution_count": null,
   "id": "c376f9e0-b28f-4187-8872-63c9581750e3",
   "metadata": {},
   "outputs": [],
   "source": [
    "#Definition of the imputer:\n",
    "imputer = IterativeImputer(KNeighborsRegressor(n_neighbors=5),\n",
    "                           sample_posterior=False, \n",
    "                           max_iter=100,\n",
    "                           tol=0.05,\n",
    "                           n_nearest_features=None,\n",
    "                           initial_strategy='most_frequent',\n",
    "                           imputation_order='random',\n",
    "                           random_state=100)"
   ]
  },
  {
   "cell_type": "code",
   "execution_count": null,
   "id": "c05d608e-1b5f-40cd-ba3c-c57f27214666",
   "metadata": {},
   "outputs": [],
   "source": [
    "#Fit of the imputer on training set and imputation:\n",
    "training_imputed = imputer.fit_transform(training) \n",
    "training_imputed = pd.DataFrame(training_imputed)"
   ]
  },
  {
   "cell_type": "code",
   "execution_count": null,
   "id": "1c41d9a2-06c1-4fc6-a58a-40c18943cb8a",
   "metadata": {},
   "outputs": [],
   "source": [
    "print('Are missing values left in the training set?',training_imputed.isnull().values.any())"
   ]
  },
  {
   "cell_type": "code",
   "execution_count": null,
   "id": "b4051102-9155-45fc-8582-76865c2f1e2e",
   "metadata": {},
   "outputs": [],
   "source": [
    "#Work on imputed training set:\n",
    "training_imputed.columns = training.columns\n",
    "training_imputed['30gg'] = training_imputed['30gg'] > 0.5\n",
    "training_imputed['30gg'] = training_imputed['30gg']*1.\n",
    "training_imputed.head()"
   ]
  },
  {
   "cell_type": "code",
   "execution_count": null,
   "id": "1bf74cae-d4ee-4b24-ba3c-8989201e1b69",
   "metadata": {},
   "outputs": [],
   "source": [
    "#Imputation of the test set:\n",
    "test_imputed = imputer.transform(test)\n",
    "test_imputed = pd.DataFrame(test_imputed)"
   ]
  },
  {
   "cell_type": "code",
   "execution_count": null,
   "id": "8adb9982-8e81-4b71-9c97-5f5c4a0bfcf2",
   "metadata": {},
   "outputs": [],
   "source": [
    "print('Are missing values left in the test set?',test_imputed.isnull().values.any())"
   ]
  },
  {
   "cell_type": "code",
   "execution_count": null,
   "id": "d789d598-ddf6-43b4-a910-c455be302f98",
   "metadata": {},
   "outputs": [],
   "source": [
    "#Work on imputed test set:\n",
    "test_imputed.columns = test.columns\n",
    "test_imputed['30gg'] = test_imputed['30gg'] > 0.5\n",
    "test_imputed['30gg'] = test_imputed['30gg']*1.\n",
    "test_imputed.head()"
   ]
  },
  {
   "cell_type": "markdown",
   "id": "0d5d8541-e8ce-4295-a8ae-2fe6c8f244ce",
   "metadata": {},
   "source": [
    "#### <font color='indianred'><b>EXPORT DATA SETS</b></font>"
   ]
  },
  {
   "cell_type": "code",
   "execution_count": null,
   "id": "47c8b10f-f6ea-40d0-bc02-9ac1b151cfc4",
   "metadata": {},
   "outputs": [],
   "source": [
    "#Export data sets to csv file:\n",
    "training_imputed.to_csv('05_Training_imputed.csv',sep=',') \n",
    "test_imputed.to_csv('05_Test_imputed.csv',sep=',') "
   ]
  }
 ],
 "metadata": {
  "kernelspec": {
   "display_name": "Python 3 (ipykernel)",
   "language": "python",
   "name": "python3"
  },
  "language_info": {
   "codemirror_mode": {
    "name": "ipython",
    "version": 3
   },
   "file_extension": ".py",
   "mimetype": "text/x-python",
   "name": "python",
   "nbconvert_exporter": "python",
   "pygments_lexer": "ipython3",
   "version": "3.9.13"
  }
 },
 "nbformat": 4,
 "nbformat_minor": 5
}
